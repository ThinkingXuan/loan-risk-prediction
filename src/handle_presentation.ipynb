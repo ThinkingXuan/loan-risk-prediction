{
 "metadata": {
  "language_info": {
   "codemirror_mode": {
    "name": "ipython",
    "version": 3
   },
   "file_extension": ".py",
   "mimetype": "text/x-python",
   "name": "python",
   "nbconvert_exporter": "python",
   "pygments_lexer": "ipython3",
   "version": "3.7.6-final"
  },
  "orig_nbformat": 2,
  "kernelspec": {
   "name": "python_defaultSpec_1605511316982",
   "display_name": "Python 3.7.6 64-bit ('base': conda)"
  }
 },
 "nbformat": 4,
 "nbformat_minor": 2,
 "cells": [
  {
   "cell_type": "code",
   "execution_count": 24,
   "metadata": {
    "tags": []
   },
   "outputs": [
    {
     "output_type": "stream",
     "name": "stdout",
     "text": "cust_id             contr_id   draw_dt  draw_amt   loan_bal  \\\n0        jd_5c3b9fb704882  1180865269636026369  20191006     25000  16666.700   \n1        jd_69d52b9a88249  1213466788482863105  20200104      1000   1000.000   \n2        jd_4dafab5a9b4c9  1223443016899952641  20200201       625    625.000   \n3              Samuel-Jay  1223065218117046272  20200131       625      0.000   \n4        jd_4b6d43502b95a  1196620391963955201  20191119      1250   1041.625   \n...                   ...                  ...       ...       ...        ...   \n1109769  jd_5e4f21eef857d  1200990999543820289  20191201      3750      0.000   \n1109793            Paul_波  1154365715302862848  20190725      1750    583.325   \n1110253  331542887-716622  1201336517520310273  20191202     25000      0.000   \n1110275   diyutianshi1314  1211888270812680193  20191231      6250      0.000   \n1110320  jd_6cbcad941f6d2  1145574672231063553  20190701       625    416.700   \n\n          prod_id  in_pay_amt  loan_term  loan_used_rate    mat_dt  \\\n0               3       20000         12        0.000293  20201006   \n1               3         800          1        0.000500  20200204   \n2               3         500         12        0.000325  20210201   \n3               3         500          1        0.000350  20200229   \n4               3        1000         12        0.000375  20201119   \n...           ...         ...        ...             ...       ...   \n1109769         3        3000          1        0.000300  20200101   \n1109793         3        1400          6        0.000500  20200125   \n1110253         3       20000          1        0.000250  20200102   \n1110275         3        5000         12        0.000500  20201231   \n1110320         3         500         12        0.000500  20200701   \n\n         next_pay_int_dt  out_pay_amt  outsheet_term  overdue  overdue_grace  \\\n0               20200306            0              0        0              0   \n1               20200204            0              0        0              0   \n2               20200301            0              0        0              3   \n3               20200204            0              0        0              3   \n4               20200219            0              0        0              0   \n...                  ...          ...            ...      ...            ...   \n1109769         20200101            0              0        0              0   \n1109793         20200101            0              0        6              0   \n1110253         20200101            0              0        0              0   \n1110275         20200101            0              0        0              0   \n1110320         20200101            0              0       30              0   \n\n         overdue_loan_bal  overdue_term prin_overdue_dt  prin_repay_freq   \n0                    0.00             0              \\N                 3  \n1                    0.00             0              \\N                 3  \n2                    0.00             0              \\N                 3  \n3                    0.00             0              \\N                 3  \n4                    0.00             0              \\N                 3  \n...                   ...           ...             ...               ...  \n1109769              0.00             0              \\N                 3  \n1109793            233.33             1        20191225                 3  \n1110253              0.00             0              \\N                 3  \n1110275              0.00             0              \\N                 3  \n1110320             41.67             1        20191201                 3  \n\n[68233 rows x 19 columns]\n"
    }
   ],
   "source": [
    "import pandas as pd\n",
    "import datetime\n",
    "data = pd.read_csv('test/test_presentation.txt')\n",
    "data=data.drop(columns=['business_dt'])\n",
    "data=data.drop_duplicates()\n",
    "print(data)"
   ]
  },
  {
   "cell_type": "code",
   "execution_count": 25,
   "metadata": {
    "tags": []
   },
   "outputs": [
    {
     "output_type": "stream",
     "name": "stdout",
     "text": "cust_id             contr_id   draw_dt  draw_amt   loan_bal  \\\n0        jd_5c3b9fb704882  1180865269636026369  20191006     25000  16666.700   \n1        jd_69d52b9a88249  1213466788482863105  20200104      1000   1000.000   \n2        jd_4dafab5a9b4c9  1223443016899952641  20200201       625    625.000   \n3              Samuel-Jay  1223065218117046272  20200131       625      0.000   \n4        jd_4b6d43502b95a  1196620391963955201  20191119      1250   1041.625   \n...                   ...                  ...       ...       ...        ...   \n1109769  jd_5e4f21eef857d  1200990999543820289  20191201      3750      0.000   \n1109793            Paul_波  1154365715302862848  20190725      1750    583.325   \n1110253  331542887-716622  1201336517520310273  20191202     25000      0.000   \n1110275   diyutianshi1314  1211888270812680193  20191231      6250      0.000   \n1110320  jd_6cbcad941f6d2  1145574672231063553  20190701       625    416.700   \n\n          prod_id  in_pay_amt  loan_term  loan_used_rate    mat_dt  \\\n0               3       20000         12        0.000293  20201006   \n1               3         800          1        0.000500  20200204   \n2               3         500         12        0.000325  20210201   \n3               3         500          1        0.000350  20200229   \n4               3        1000         12        0.000375  20201119   \n...           ...         ...        ...             ...       ...   \n1109769         3        3000          1        0.000300  20200101   \n1109793         3        1400          6        0.000500  20200125   \n1110253         3       20000          1        0.000250  20200102   \n1110275         3        5000         12        0.000500  20201231   \n1110320         3         500         12        0.000500  20200701   \n\n         next_pay_int_dt  out_pay_amt  outsheet_term  overdue  overdue_grace  \\\n0               20200306            0              0        0              0   \n1               20200204            0              0        0              0   \n2               20200301            0              0        0              3   \n3               20200204            0              0        0              3   \n4               20200219            0              0        0              0   \n...                  ...          ...            ...      ...            ...   \n1109769         20200101            0              0        0              0   \n1109793         20200101            0              0        6              0   \n1110253         20200101            0              0        0              0   \n1110275         20200101            0              0        0              0   \n1110320         20200101            0              0       30              0   \n\n         overdue_loan_bal  overdue_term prin_overdue_dt  prin_repay_freq   \\\n0                    0.00             0              \\N                 3   \n1                    0.00             0              \\N                 3   \n2                    0.00             0              \\N                 3   \n3                    0.00             0              \\N                 3   \n4                    0.00             0              \\N                 3   \n...                   ...           ...             ...               ...   \n1109769              0.00             0              \\N                 3   \n1109793            233.33             1        20191225                 3   \n1110253              0.00             0              \\N                 3   \n1110275              0.00             0              \\N                 3   \n1110320             41.67             1        20191201                 3   \n\n         to_term  \n0             23  \n1            103  \n2             24  \n3             65  \n4             10  \n...          ...  \n1109769       83  \n1109793      152  \n1110253       22  \n1110275        7  \n1110320      648  \n\n[68233 rows x 20 columns]\n"
    }
   ],
   "source": [
    "def func_term_count(data):\n",
    "    data['to_term'] = data['contr_id'].count()\n",
    "    return data\n",
    "data=data.groupby('cust_id').apply(func_term_count)\n",
    "data=data.drop_duplicates()\n",
    "print(data)\n"
   ]
  },
  {
   "cell_type": "code",
   "execution_count": 26,
   "metadata": {
    "tags": []
   },
   "outputs": [
    {
     "output_type": "stream",
     "name": "stdout",
     "text": "cust_id             contr_id  draw_amt   prod_id  \\\n0        jd_5c3b9fb704882  1180865269636026369     25000         3   \n1        jd_69d52b9a88249  1213466788482863105      1000         3   \n2        jd_4dafab5a9b4c9  1223443016899952641       625         3   \n3              Samuel-Jay  1223065218117046272       625         3   \n4        jd_4b6d43502b95a  1196620391963955201      1250         3   \n...                   ...                  ...       ...       ...   \n1109654  jd_52f8fdb6092fe  1178562587361558528      6250         3   \n1109704  jd_6fd1e9d9a59d8  1140934622767484929      1750         3   \n1109705  jd_52f8fdb6092fe  1178561639604101121       625         3   \n1109793            Paul_波  1154365715302862848      1750         3   \n1110320  jd_6cbcad941f6d2  1145574672231063553       625         3   \n\n         in_pay_amt  loan_used_rate  out_pay_amt  outsheet_term  overdue  \\\n0             20000        0.000293            0              0        0   \n1               800        0.000500            0              0        0   \n2               500        0.000325            0              0        0   \n3               500        0.000350            0              0        0   \n4              1000        0.000375            0              0        0   \n...             ...             ...          ...            ...      ...   \n1109654        5000        0.000475            0              0        0   \n1109704        1400        0.000500            0              0       13   \n1109705         500        0.000475            0              0        0   \n1109793        1400        0.000500            0              0        6   \n1110320         500        0.000500            0              0       30   \n\n         overdue_grace  overdue_loan_bal  overdue_term prin_overdue_dt  \\\n0                    0              0.00             0              \\N   \n1                    0              0.00             0              \\N   \n2                    3              0.00             0              \\N   \n3                    3              0.00             0              \\N   \n4                    0              0.00             0              \\N   \n...                ...               ...           ...             ...   \n1109654              0              0.00             0        20191230   \n1109704              0            116.67             1        20191218   \n1109705              0              0.00             0        20191230   \n1109793              0            233.33             1        20191225   \n1110320              0             41.67             1        20191201   \n\n         prin_repay_freq   to_term  \n0                       3       23  \n1                       3      103  \n2                       3       24  \n3                       3       65  \n4                       3       10  \n...                   ...      ...  \n1109654                 3       24  \n1109704                 3      699  \n1109705                 3       24  \n1109793                 3      152  \n1110320                 3      648  \n\n[36240 rows x 15 columns]\n"
    }
   ],
   "source": [
    "\n",
    "# # # #去重，下一个付息日\n",
    "data=data.drop(columns=['next_pay_int_dt'])\n",
    "data=data.drop(columns=[' loan_bal'])\n",
    "data=data.drop(columns=['loan_term'])\n",
    "data=data.drop_duplicates()\n",
    "data=data.drop(columns=['mat_dt'])\n",
    "data=data.drop(columns=['draw_dt'])\n",
    "data=data.drop_duplicates()\n",
    "print(data)"
   ]
  },
  {
   "cell_type": "code",
   "execution_count": 27,
   "metadata": {
    "tags": []
   },
   "outputs": [
    {
     "output_type": "stream",
     "name": "stdout",
     "text": "cust_id             contr_id  draw_amt   prod_id  \\\n0        jd_5c3b9fb704882  1180865269636026369     25000         3   \n1        jd_69d52b9a88249  1213466788482863105      1000         3   \n2        jd_4dafab5a9b4c9  1223443016899952641       625         3   \n3              Samuel-Jay  1223065218117046272       625         3   \n4        jd_4b6d43502b95a  1196620391963955201      1250         3   \n...                   ...                  ...       ...       ...   \n1108878  jd_706a4769eb251  1188811595740905473       625         3   \n1109233     15985791013_p  1166016032180273153      5875         3   \n1109654  jd_52f8fdb6092fe  1178562587361558528      6250         3   \n1109705  jd_52f8fdb6092fe  1178561639604101121       625         3   \n1110320  jd_6cbcad941f6d2  1145574672231063553       625         3   \n\n         in_pay_amt  loan_used_rate  out_pay_amt  overdue  overdue_grace  \\\n0             20000        0.000293            0        0              0   \n1               800        0.000500            0        0              0   \n2               500        0.000325            0        0              3   \n3               500        0.000350            0        0              3   \n4              1000        0.000375            0        0              0   \n...             ...             ...          ...      ...            ...   \n1108878         500        0.000500            0        3              0   \n1109233        4700        0.000425            0        5              0   \n1109654        5000        0.000475            0        0              0   \n1109705         500        0.000475            0        0              0   \n1110320         500        0.000500            0       30              0   \n\n         overdue_loan_bal  to_term  prin_overdue_count  to_overdue_term  \n0                    0.00       23                   0                0  \n1                    0.00      103                   0                0  \n2                    0.00       24                   0                0  \n3                    0.00       65                   0                0  \n4                    0.00       10                   0                0  \n...                   ...      ...                 ...              ...  \n1108878            166.67       35                   1               10  \n1109233            391.67       76                   1               17  \n1109654              0.00       24                   1                2  \n1109705              0.00       24                   1                2  \n1110320             41.67      648                   1              116  \n\n[33472 rows x 13 columns]\n"
    }
   ],
   "source": [
    "data['prin_overdue_count']=data.apply(lambda x: int('0') if x['prin_overdue_dt']=='\\\\N' else int('1'), axis=1)\n",
    "data=data.drop(columns=['prin_repay_freq '])\n",
    "def func_overdue_count(data):\n",
    "    data['overdue_term'] =data['overdue_term']+data['prin_overdue_count'].sum()\n",
    "    return data\n",
    "data=data.groupby('contr_id').apply(func_overdue_count)\n",
    "\n",
    "data['to_overdue_term']=data.apply(lambda x: int(x['outsheet_term'])+int(x['overdue_term']), axis=1)\n",
    "data=data.drop(columns=['prin_overdue_dt'])\n",
    "data=data.drop(columns=['outsheet_term'])\n",
    "data=data.drop(columns=['overdue_term'])\n",
    "data=data.drop_duplicates()\n",
    "print(data)"
   ]
  },
  {
   "cell_type": "code",
   "execution_count": 28,
   "metadata": {
    "tags": []
   },
   "outputs": [
    {
     "output_type": "stream",
     "name": "stdout",
     "text": "cust_id             contr_id  draw_amt   prod_id  \\\n0        jd_5c3b9fb704882  1180865269636026369     25000         3   \n1        jd_69d52b9a88249  1213466788482863105      1000         3   \n2        jd_4dafab5a9b4c9  1223443016899952641       625         3   \n3              Samuel-Jay  1223065218117046272       625         3   \n4        jd_4b6d43502b95a  1196620391963955201      1250         3   \n...                   ...                  ...       ...       ...   \n1108878  jd_706a4769eb251  1188811595740905473       625         3   \n1109233     15985791013_p  1166016032180273153      5875         3   \n1109654  jd_52f8fdb6092fe  1178562587361558528      6250         3   \n1109705  jd_52f8fdb6092fe  1178561639604101121       625         3   \n1110320  jd_6cbcad941f6d2  1145574672231063553       625         3   \n\n         in_pay_amt  loan_used_rate  out_pay_amt  overdue_loan_bal  to_term  \\\n0             20000        0.000293            0            0.0000       23   \n1               800        0.000500            0            0.0000      103   \n2               500        0.000325            0            0.0000       24   \n3               500        0.000350            0            0.0000       65   \n4              1000        0.000375            0            0.0000       10   \n...             ...             ...          ...               ...      ...   \n1108878         500        0.000500            0          186.6704       35   \n1109233        4700        0.000425            0          470.0040       76   \n1109654        5000        0.000475            0            0.0000       24   \n1109705         500        0.000475            0            0.0000       24   \n1110320         500        0.000500            0           91.6740      648   \n\n         prin_overdue_count  to_overdue_term  \n0                         0                0  \n1                         0                0  \n2                         0                0  \n3                         0                0  \n4                         0                0  \n...                     ...              ...  \n1108878                   1               10  \n1109233                   1               17  \n1109654                   1                2  \n1109705                   1                2  \n1110320                   1              116  \n\n[33448 rows x 11 columns]\n"
    }
   ],
   "source": [
    "data['overdue_loan_bal']=data.apply(lambda x: float(x['overdue_loan_bal'])*(int(x['overdue'])*0.04+x['overdue_grace']*0.02+1), axis=1)\n",
    "data=data.drop(columns=['overdue'])\n",
    "data=data.drop(columns=['overdue_grace'])\n",
    "data=data.drop_duplicates()\n",
    "print(data)"
   ]
  },
  {
   "cell_type": "code",
   "execution_count": 29,
   "metadata": {
    "tags": []
   },
   "outputs": [
    {
     "output_type": "stream",
     "name": "stdout",
     "text": "cust_id             contr_id  draw_amt   prod_id  \\\n0        jd_5c3b9fb704882  1180865269636026369     25000         3   \n1        jd_69d52b9a88249  1213466788482863105      1000         3   \n2        jd_4dafab5a9b4c9  1223443016899952641       625         3   \n3              Samuel-Jay  1223065218117046272       625         3   \n4        jd_4b6d43502b95a  1196620391963955201      1250         3   \n...                   ...                  ...       ...       ...   \n1108878  jd_706a4769eb251  1188811595740905473       625         3   \n1109233     15985791013_p  1166016032180273153      5875         3   \n1109654  jd_52f8fdb6092fe  1178562587361558528      6250         3   \n1109705  jd_52f8fdb6092fe  1178561639604101121       625         3   \n1110320  jd_6cbcad941f6d2  1145574672231063553       625         3   \n\n         in_pay_amt  loan_used_rate  out_pay_amt  overdue_loan_bal  to_term  \\\n0             20000        0.000293            0            0.0000       23   \n1               800        0.000500            0            0.0000      103   \n2               500        0.000325            0            0.0000       24   \n3               500        0.000350            0            0.0000       65   \n4              1000        0.000375            0            0.0000       10   \n...             ...             ...          ...               ...      ...   \n1108878         500        0.000500            0          186.6704       35   \n1109233        4700        0.000425            0          470.0040       76   \n1109654        5000        0.000475            0            0.0000       24   \n1109705         500        0.000475            0            0.0000       24   \n1110320         500        0.000500            0           91.6740      648   \n\n         prin_overdue_count  to_overdue_term  \n0                         0                0  \n1                         0                0  \n2                         0                0  \n3                         0                0  \n4                         0                0  \n...                     ...              ...  \n1108878                   1               10  \n1109233                   1               17  \n1109654                   1                2  \n1109705                   1                2  \n1110320                   1              116  \n\n[33448 rows x 11 columns]\n"
    }
   ],
   "source": [
    "def func_rate_mean(data):\n",
    "    data['loan_used_rate'] = data['loan_used_rate'].mean()\n",
    "    return data\n",
    "data=data.groupby('contr_id').apply(func_rate_mean)\n",
    "def func_in_pay_max(data):\n",
    "    data['in_pay_amt'] = data['in_pay_amt'].max()\n",
    "    return data\n",
    "data=data.groupby('contr_id').apply(func_in_pay_max)\n",
    "print(data)"
   ]
  },
  {
   "cell_type": "code",
   "execution_count": 30,
   "metadata": {
    "tags": []
   },
   "outputs": [
    {
     "output_type": "stream",
     "name": "stdout",
     "text": "cust_id             contr_id  draw_amt   prod_id  \\\n0        jd_5c3b9fb704882  1180865269636026369     25000         3   \n1        jd_69d52b9a88249  1213466788482863105      1000         3   \n2        jd_4dafab5a9b4c9  1223443016899952641       625         3   \n3              Samuel-Jay  1223065218117046272       625         3   \n4        jd_4b6d43502b95a  1196620391963955201      1250         3   \n...                   ...                  ...       ...       ...   \n1096264  jd_7b1ae7e20f759  1182657512101388288      1250         3   \n1101014  jd_6b471b74fa3d8  1197475249818480640      3750         3   \n1101592  jd_4565501a6ebdc  1197290557857116160      6250         3   \n1109654  jd_52f8fdb6092fe  1178562587361558528      6250         3   \n1109705  jd_52f8fdb6092fe  1178561639604101121       625         3   \n\n         in_pay_amt  loan_used_rate  out_pay_amt  to_term  prin_overdue_count  \\\n0             20000        0.000293            0       23                   0   \n1               800        0.000500            0      103                   0   \n2               500        0.000325            0       24                   0   \n3               500        0.000350            0       65                   0   \n4              1000        0.000375            0       10                   0   \n...             ...             ...          ...      ...                 ...   \n1096264        1000        0.000500            0       28                   1   \n1101014        3000        0.000650            0        7                   1   \n1101592        5000        0.000325            0       12                   1   \n1109654        5000        0.000475            0       24                   1   \n1109705         500        0.000475            0       24                   1   \n\n         to_overdue_term  max_overdue_loan_bal  \n0                      0                  0.00  \n1                      0                  0.00  \n2                      0                  0.00  \n3                      0                  0.00  \n4                      0                  0.00  \n...                  ...                   ...  \n1096264                3                 83.33  \n1101014                3                250.00  \n1101592                3                416.63  \n1109654                2                491.47  \n1109705                2                166.67  \n\n[22070 rows x 11 columns]\n"
    }
   ],
   "source": [
    "def func_out_pay_max(data):\n",
    "    data['out_pay_amt'] = data['out_pay_amt'].max()\n",
    "    return data\n",
    "data=data.groupby('contr_id').apply(func_out_pay_max)\n",
    "def func_term_max(data):\n",
    "    data['max_overdue_loan_bal'] = data['overdue_loan_bal'].max()\n",
    "    return data\n",
    "data=data.groupby('contr_id').apply(func_term_max)\n",
    "data=data.drop(columns=['overdue_loan_bal'])\n",
    "data=data.drop_duplicates()\n",
    "print(data)"
   ]
  },
  {
   "cell_type": "code",
   "execution_count": 31,
   "metadata": {},
   "outputs": [],
   "source": [
    "data.to_csv('./test/handle_test_presentation.csv',index=False)\n",
    "data = pd.read_csv('test/handle_test_presentation.csv')\n",
    "def func_uverdue_term_max(data):\n",
    "    data['to_overdue_term'] = data['to_overdue_term'].max()\n",
    "    return data\n",
    "data=data.groupby('contr_id').apply(func_uverdue_term_max)\n",
    "data=data.drop(columns=['prin_overdue_count'])\n",
    "\n",
    "def func_term_count(data):\n",
    "    data['to_contr'] = data['contr_id'].count()\n",
    "    return data\n",
    "data=data.groupby('cust_id').apply(func_term_count)\n",
    "data=data.drop(columns=['contr_id'])\n",
    "data=data.drop_duplicates()"
   ]
  },
  {
   "cell_type": "code",
   "execution_count": 32,
   "metadata": {},
   "outputs": [],
   "source": [
    "def func_rate_mean(data):\n",
    "    data['loan_used_rate'] = data['loan_used_rate'].mean()\n",
    "    return data\n",
    "data=data.groupby('cust_id').apply(func_rate_mean)\n",
    "def func_draw_amt_mean(data):\n",
    "    data['draw_amt'] = data['draw_amt'].mean()\n",
    "    return data\n",
    "data=data.groupby('cust_id').apply(func_draw_amt_mean)\n",
    "def func_in_pay_amt_mean(data):\n",
    "    data['in_pay_amt'] = data['in_pay_amt'].mean()\n",
    "    return data\n",
    "data=data.groupby('cust_id').apply(func_in_pay_amt_mean)\n"
   ]
  },
  {
   "cell_type": "code",
   "execution_count": 33,
   "metadata": {
    "tags": []
   },
   "outputs": [
    {
     "output_type": "stream",
     "name": "stdout",
     "text": "cust_id     draw_amt   prod_id   in_pay_amt  loan_used_rate  \\\n0      jd_5c3b9fb704882  9900.000000         3  7920.000000        0.000312   \n1      jd_69d52b9a88249  2666.666667         3  2133.333333        0.000500   \n2      jd_4dafab5a9b4c9  1500.000000         3  1200.000000        0.000325   \n3            Samuel-Jay  6105.769231         3  4884.615385        0.000350   \n4      jd_4b6d43502b95a  5625.000000         3  4500.000000        0.000356   \n...                 ...          ...       ...          ...             ...   \n20439     bosaidong1100   625.000000         3   500.000000        0.000375   \n20441     15830587521_p   625.000000         3   500.000000        0.000500   \n20449  jd_524dcdcd90e99  5625.000000         3  4500.000000        0.000300   \n20454  jd_6592bf06edf24  1250.000000         3  1000.000000        0.000300   \n20458  jd_7c5196f829f87  3750.000000         3  3000.000000        0.000500   \n\n       out_pay_amt  to_term  to_overdue_term  max_overdue_loan_bal  to_contr  \n0              0.0       23                0                   0.0         5  \n1              0.0      103                0                   0.0        42  \n2              0.0       24                0                   0.0        10  \n3              0.0       65                9                9964.0        36  \n4              0.0       10                0                   0.0         2  \n...            ...      ...              ...                   ...       ...  \n20439          0.0        1                0                   0.0         1  \n20441          0.0        1                0                   0.0         1  \n20449          0.0        1                0                   0.0         1  \n20454          0.0        1                0                   0.0         1  \n20458          0.0        1                0                   0.0         1  \n\n[5000 rows x 10 columns]\n"
    }
   ],
   "source": [
    "def func_out_pay_amt_mean(data):\n",
    "    data['out_pay_amt'] = data['out_pay_amt'].mean()\n",
    "    return data\n",
    "data=data.groupby('cust_id').apply(func_out_pay_amt_mean)\n",
    "def func_term_sum(data):\n",
    "    data['max_overdue_loan_bal'] = data['max_overdue_loan_bal'].sum()\n",
    "    return data\n",
    "data=data.groupby('cust_id').apply(func_term_sum)\n",
    "def func_uverdue_term_sum(data):\n",
    "    data['to_overdue_term'] = data['to_overdue_term'].sum()\n",
    "    return data\n",
    "data=data.groupby('cust_id').apply(func_uverdue_term_sum)\n",
    "data=data.drop_duplicates()\n",
    "print(data)\n",
    "data.to_csv('./test/handle_test_presentation.csv',index=False)\n"
   ]
  },
  {
   "cell_type": "code",
   "execution_count": null,
   "metadata": {},
   "outputs": [],
   "source": []
  }
 ]
}