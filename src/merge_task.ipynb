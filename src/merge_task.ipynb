{
 "metadata": {
  "language_info": {
   "codemirror_mode": {
    "name": "ipython",
    "version": 3
   },
   "file_extension": ".py",
   "mimetype": "text/x-python",
   "name": "python",
   "nbconvert_exporter": "python",
   "pygments_lexer": "ipython3",
   "version": "3.7.6-final"
  },
  "orig_nbformat": 2,
  "kernelspec": {
   "name": "python3",
   "display_name": "Python 3"
  }
 },
 "nbformat": 4,
 "nbformat_minor": 2,
 "cells": [
  {
   "cell_type": "code",
   "execution_count": 1,
   "metadata": {},
   "outputs": [],
   "source": [
    "import pandas as pd\n",
    "import numpy as np\n",
    "import matplotlib.pyplot as plt\n",
    "import seaborn as sns\n",
    "import datetime\n",
    "from tqdm import tqdm\n",
    "from sklearn.preprocessing import LabelEncoder\n",
    "from sklearn.feature_selection import SelectKBest\n",
    "from sklearn.feature_selection import chi2\n",
    "from sklearn.preprocessing import MinMaxScaler\n",
    "import xgboost as xgb\n",
    "import lightgbm as lgb\n",
    "from catboost import CatBoostRegressor\n",
    "import warnings\n",
    "from sklearn.model_selection import StratifiedKFold, KFold\n",
    "from sklearn.metrics import accuracy_score, f1_score, roc_auc_score, log_loss,explained_variance_score\n",
    "warnings.filterwarnings('ignore')\n",
    "import random\n",
    "from sklearn.model_selection import train_test_split"
   ]
  },
  {
   "cell_type": "code",
   "execution_count": 2,
   "metadata": {},
   "outputs": [],
   "source": [
    "data_train = pd.read_csv('train.csv')\n",
    "data_test = pd.read_csv('test.csv')"
   ]
  },
  {
   "cell_type": "code",
   "execution_count": 3,
   "metadata": {
    "tags": []
   },
   "outputs": [
    {
     "output_type": "stream",
     "name": "stdout",
     "text": "['sex', 'address', 'birthDT', 'apply_amount', 'apply_dateDT', 'credit_actual_dt', 'credit_mat_dt', 'credit_lmt', 'credit_term', 'to_credit_lmt', 'to_credit_term', 'draw_amt', 'in_pay_amt', 'loan_used_rate', 'out_pay_amt', 'to_term', 'to_overdue_term', 'max_overdue_loan_bal', 'to_contr', 'typeCT', 'debt', 'label']\n['cust_id']\n"
    }
   ],
   "source": [
    "numerical_fea = list(data_train.select_dtypes(exclude=['object']).columns)\n",
    "print(numerical_fea)\n",
    "category_fea = list(filter(lambda x: x not in numerical_fea,list(data_train.columns)))\n",
    "print(category_fea)\n",
    "label = 'label'\n",
    "numerical_fea.remove(label)"
   ]
  },
  {
   "cell_type": "code",
   "execution_count": 4,
   "metadata": {
    "tags": []
   },
   "outputs": [
    {
     "output_type": "stream",
     "name": "stdout",
     "text": "cust_id 类型数： 8000\naddress 类型数： 1880\n"
    }
   ],
   "source": [
    "# 部分类别特征\n",
    "cate_features = ['cust_id','address']\n",
    "for f in cate_features:\n",
    "    print(f, '类型数：', data_train[f].nunique())"
   ]
  },
  {
   "cell_type": "code",
   "execution_count": 5,
   "metadata": {},
   "outputs": [],
   "source": [
    "# 类型数在2之上，又不是高维稀疏的,且纯分类特征\n",
    "# for data in [data_train, data_test]:\n",
    "#     data = pd.get_dummies(data, columns=['address'], drop_first=True)"
   ]
  },
  {
   "cell_type": "code",
   "execution_count": 6,
   "metadata": {},
   "outputs": [],
   "source": [
    "def find_outliers_by_3segama(data,fea):\n",
    "    data_std = np.std(data[fea])\n",
    "    data_mean = np.mean(data[fea])\n",
    "    outliers_cut_off = data_std * 3\n",
    "    lower_rule = data_mean - outliers_cut_off\n",
    "    upper_rule = data_mean + outliers_cut_off\n",
    "    data[fea+'_outliers'] = data[fea].apply(lambda x:str('异常值') if x > upper_rule or x < lower_rule else '正常值')\n",
    "    return data"
   ]
  },
  {
   "cell_type": "code",
   "execution_count": 7,
   "metadata": {
    "tags": []
   },
   "outputs": [
    {
     "output_type": "stream",
     "name": "stdout",
     "text": "正常值    8000\nName: sex_outliers, dtype: int64\nsex_outliers\n正常值    800\nName: label, dtype: int64\n**********\n正常值    8000\nName: address_outliers, dtype: int64\naddress_outliers\n正常值    800\nName: label, dtype: int64\n**********\n正常值    7919\n异常值      81\nName: birthDT_outliers, dtype: int64\nbirthDT_outliers\n异常值      7\n正常值    793\nName: label, dtype: int64\n**********\n正常值    7872\n异常值     128\nName: apply_amount_outliers, dtype: int64\napply_amount_outliers\n异常值      5\n正常值    795\nName: label, dtype: int64\n**********\n正常值    7998\n异常值       2\nName: apply_dateDT_outliers, dtype: int64\napply_dateDT_outliers\n异常值      0\n正常值    800\nName: label, dtype: int64\n**********\n正常值    8000\nName: credit_actual_dt_outliers, dtype: int64\ncredit_actual_dt_outliers\n正常值    800\nName: label, dtype: int64\n**********\n正常值    8000\nName: credit_mat_dt_outliers, dtype: int64\ncredit_mat_dt_outliers\n正常值    800\nName: label, dtype: int64\n**********\n正常值    7921\n异常值      79\nName: credit_lmt_outliers, dtype: int64\ncredit_lmt_outliers\n异常值      5\n正常值    795\nName: label, dtype: int64\n**********\n正常值    8000\nName: credit_term_outliers, dtype: int64\ncredit_term_outliers\n正常值    800\nName: label, dtype: int64\n**********\n正常值    7912\n异常值      88\nName: to_credit_lmt_outliers, dtype: int64\nto_credit_lmt_outliers\n异常值      4\n正常值    796\nName: label, dtype: int64\n**********\n正常值    8000\nName: to_credit_term_outliers, dtype: int64\nto_credit_term_outliers\n正常值    800\nName: label, dtype: int64\n**********\n正常值    7823\n异常值     177\nName: draw_amt_outliers, dtype: int64\ndraw_amt_outliers\n异常值      6\n正常值    794\nName: label, dtype: int64\n**********\n正常值    7823\n异常值     177\nName: in_pay_amt_outliers, dtype: int64\nin_pay_amt_outliers\n异常值      6\n正常值    794\nName: label, dtype: int64\n**********\n正常值    7925\n异常值      75\nName: loan_used_rate_outliers, dtype: int64\nloan_used_rate_outliers\n异常值      4\n正常值    796\nName: label, dtype: int64\n**********\n正常值    8000\nName: out_pay_amt_outliers, dtype: int64\nout_pay_amt_outliers\n正常值    800\nName: label, dtype: int64\n**********\n正常值    7913\n异常值      87\nName: to_term_outliers, dtype: int64\nto_term_outliers\n异常值     49\n正常值    751\nName: label, dtype: int64\n**********\n正常值    7914\n异常值      86\nName: to_overdue_term_outliers, dtype: int64\nto_overdue_term_outliers\n异常值     72\n正常值    728\nName: label, dtype: int64\n**********\n正常值    7913\n异常值      87\nName: max_overdue_loan_bal_outliers, dtype: int64\nmax_overdue_loan_bal_outliers\n异常值     37\n正常值    763\nName: label, dtype: int64\n**********\n正常值    7887\n异常值     113\nName: to_contr_outliers, dtype: int64\nto_contr_outliers\n异常值     26\n正常值    774\nName: label, dtype: int64\n**********\n正常值    7991\n异常值       9\nName: typeCT_outliers, dtype: int64\ntypeCT_outliers\n异常值      3\n正常值    797\nName: label, dtype: int64\n**********\n正常值    7969\n异常值      31\nName: debt_outliers, dtype: int64\ndebt_outliers\n异常值      0\n正常值    800\nName: label, dtype: int64\n**********\n"
    }
   ],
   "source": [
    "data_train = data_train.copy()\n",
    "data_test = data_test.copy()\n",
    "for fea in numerical_fea:\n",
    "    data_train = find_outliers_by_3segama(data_train,fea)\n",
    "    print(data_train[fea+'_outliers'].value_counts())\n",
    "    print(data_train.groupby(fea+'_outliers')['label'].sum())\n",
    "    print('*'*10)"
   ]
  },
  {
   "cell_type": "code",
   "execution_count": 8,
   "metadata": {},
   "outputs": [],
   "source": [
    "data_train['apply_amount_bin1'] = np.floor_divide(data_train['apply_amount'], 1000)\n",
    "data_test['apply_amount_bin1'] = np.floor_divide(data_test['apply_amount'], 1000)"
   ]
  },
  {
   "cell_type": "code",
   "execution_count": 9,
   "metadata": {},
   "outputs": [],
   "source": [
    "## 通过对数函数映射到指数宽度分箱\n",
    "data_train['apply_amount_bin2'] = np.floor(np.log10(data_train['apply_amount']))\n",
    "data_test['apply_amount_bin2'] = np.floor(np.log10(data_test['apply_amount']))"
   ]
  },
  {
   "cell_type": "code",
   "execution_count": 10,
   "metadata": {},
   "outputs": [],
   "source": [
    "data_train['apply_amount_bin3'] = pd.qcut(data_train['apply_amount'], 10, labels=False)\n",
    "data_test['apply_amount_bin3'] = pd.qcut(data_test['apply_amount'], 10, labels=False)"
   ]
  },
  {
   "cell_type": "code",
   "execution_count": 11,
   "metadata": {},
   "outputs": [],
   "source": [
    "# for col in ['credit_lmt', 'credit_term']: \n",
    "#     temp_dict = data_train.groupby([col])['label'].agg(['mean']).reset_index().rename(columns={'mean': col + '_target_mean'})\n",
    "#     temp_dict.index = temp_dict[col].values\n",
    "#     temp_dict = temp_dict[col + '_target_mean'].to_dict()\n",
    "    \n",
    "#     data_test[col + '_target_mean'] = data_test[col].map(temp_dict)\n",
    "#     data_train[col + '_target_mean'] = data_train[col].map(temp_dict)\n"
   ]
  },
  {
   "cell_type": "code",
   "execution_count": 12,
   "metadata": {},
   "outputs": [],
   "source": [
    "data_train['address']=data_train['address'].astype('int')\n",
    "data_test['address']=data_test['address'].astype('int')\n"
   ]
  },
  {
   "cell_type": "code",
   "execution_count": 13,
   "metadata": {},
   "outputs": [],
   "source": [
    "features = [f for f in data_train.columns if f not in ['cust_id','label'] and '_outliers' not in f]\n",
    "x_train = data_train[features]\n",
    "x_test = data_test[features]\n",
    "y_train = data_train['label']"
   ]
  },
  {
   "cell_type": "code",
   "execution_count": 14,
   "metadata": {},
   "outputs": [],
   "source": [
    "def get_f1 (preds,dtrain):\n",
    "    label=dtrain.get_label()\n",
    "    preds=np.argmax(preds.reshape(len(label),-1), axis=1)\n",
    "    f1=f1_score(label,preds,average='weighted')\n",
    "    return 'f1-score',float(f1),True\n",
    "def cv_model(clf, train_x, train_y, test_x, clf_name):\n",
    "    folds = 5\n",
    "    seed = 2020\n",
    "    kf = KFold(n_splits=folds, shuffle=True, random_state=seed)\n",
    "\n",
    "    train = np.zeros(train_x.shape[0])\n",
    "    test = np.zeros(test_x.shape[0])\n",
    "\n",
    "    cv_scores = []\n",
    "\n",
    "    for i, (train_index, valid_index) in enumerate(kf.split(train_x, train_y)):\n",
    "        print('************************************ {} ************************************'.format(str(i+1)))\n",
    "        trn_x, trn_y, val_x, val_y = train_x.iloc[train_index], train_y[train_index], train_x.iloc[valid_index], train_y[valid_index]\n",
    "\n",
    "        if clf_name == \"lgb\":\n",
    "            train_matrix = clf.Dataset(trn_x, label=trn_y)\n",
    "            valid_matrix = clf.Dataset(val_x, label=val_y)\n",
    "\n",
    "            params = {\n",
    "                'boosting_type': 'gbdt',\n",
    "                'objective': 'binary',\n",
    "                'metric': 'auc',\n",
    "                'min_child_weight': 5,\n",
    "                'num_leaves': 2 ** 5,\n",
    "                'lambda_l2': 10,\n",
    "                'feature_fraction': 0.8,\n",
    "                'bagging_fraction': 0.8,\n",
    "                'bagging_freq': 4,\n",
    "                'learning_rate': 0.1,\n",
    "                'seed': 2020,\n",
    "                'nthread': 28,\n",
    "                'n_jobs':24,\n",
    "                'silent': True,\n",
    "                'verbose': -1,\n",
    "            }\n",
    "\n",
    "            model = clf.train(params, train_matrix, 50000, valid_sets=[train_matrix, valid_matrix], verbose_eval=200,feval=get_f1,early_stopping_rounds=200)\n",
    "            val_pred = model.predict(val_x, num_iteration=model.best_iteration)\n",
    "            test_pred = model.predict(test_x, num_iteration=model.best_iteration)\n",
    "            \n",
    "            # print(list(sorted(zip(features, model.feature_importance(\"gain\")), key=lambda x: x[1], reverse=True))[:20])\n",
    "        \n",
    "            \n",
    "        train[valid_index] = val_pred\n",
    "        #test = test_pred / kf.n_splits\n",
    "        test = test_pred\n",
    "    return train, test"
   ]
  },
  {
   "cell_type": "code",
   "execution_count": 15,
   "metadata": {},
   "outputs": [],
   "source": [
    "def lgb_model(x_train, y_train, x_test):\n",
    "    lgb_train, lgb_test = cv_model(lgb, x_train, y_train, x_test, \"lgb\")\n",
    "    return lgb_train, lgb_test"
   ]
  },
  {
   "cell_type": "code",
   "execution_count": 16,
   "metadata": {
    "tags": []
   },
   "outputs": [
    {
     "output_type": "stream",
     "name": "stdout",
     "text": "************************************ 1 ************************************\n[LightGBM] [Warning] num_threads is set with nthread=28, will be overridden by n_jobs=24. Current value: num_threads=24\n[LightGBM] [Warning] Unknown parameter: silent\nTraining until validation scores don't improve for 200 rounds\n[200]\ttraining's auc: 0.993393\ttraining's f1-score: 0.851954\tvalid_1's auc: 0.736885\tvalid_1's f1-score: 0.855344\nEarly stopping, best iteration is:\n[1]\ttraining's auc: 0.762302\ttraining's f1-score: 0.851954\tvalid_1's auc: 0.720297\tvalid_1's f1-score: 0.855344\n************************************ 2 ************************************\n[LightGBM] [Warning] num_threads is set with nthread=28, will be overridden by n_jobs=24. Current value: num_threads=24\n[LightGBM] [Warning] Unknown parameter: silent\nTraining until validation scores don't improve for 200 rounds\n[200]\ttraining's auc: 0.993292\ttraining's f1-score: 0.851728\tvalid_1's auc: 0.743878\tvalid_1's f1-score: 0.856248\nEarly stopping, best iteration is:\n[1]\ttraining's auc: 0.767853\ttraining's f1-score: 0.851728\tvalid_1's auc: 0.710651\tvalid_1's f1-score: 0.856248\n************************************ 3 ************************************\n[LightGBM] [Warning] num_threads is set with nthread=28, will be overridden by n_jobs=24. Current value: num_threads=24\n[LightGBM] [Warning] Unknown parameter: silent\nTraining until validation scores don't improve for 200 rounds\n[200]\ttraining's auc: 0.992699\ttraining's f1-score: 0.852858\tvalid_1's auc: 0.736239\tvalid_1's f1-score: 0.851728\nEarly stopping, best iteration is:\n[1]\ttraining's auc: 0.761382\ttraining's f1-score: 0.852858\tvalid_1's auc: 0.684169\tvalid_1's f1-score: 0.851728\n************************************ 4 ************************************\n[LightGBM] [Warning] num_threads is set with nthread=28, will be overridden by n_jobs=24. Current value: num_threads=24\n[LightGBM] [Warning] Unknown parameter: silent\nTraining until validation scores don't improve for 200 rounds\n[200]\ttraining's auc: 0.992767\ttraining's f1-score: 0.85218\tvalid_1's auc: 0.7237\tvalid_1's f1-score: 0.85444\nEarly stopping, best iteration is:\n[1]\ttraining's auc: 0.771353\ttraining's f1-score: 0.85218\tvalid_1's auc: 0.724763\tvalid_1's f1-score: 0.85444\n************************************ 5 ************************************\n[LightGBM] [Warning] num_threads is set with nthread=28, will be overridden by n_jobs=24. Current value: num_threads=24\n[LightGBM] [Warning] Unknown parameter: silent\nTraining until validation scores don't improve for 200 rounds\n[200]\ttraining's auc: 0.993359\ttraining's f1-score: 0.85444\tvalid_1's auc: 0.711696\tvalid_1's f1-score: 0.845409\nEarly stopping, best iteration is:\n[1]\ttraining's auc: 0.776372\ttraining's f1-score: 0.85444\tvalid_1's auc: 0.696206\tvalid_1's f1-score: 0.845409\n"
    }
   ],
   "source": [
    "\n",
    "lgb_train, lgb_test = lgb_model(x_train, y_train, x_test)"
   ]
  },
  {
   "cell_type": "code",
   "execution_count": 17,
   "metadata": {
    "tags": []
   },
   "outputs": [
    {
     "output_type": "stream",
     "name": "stdout",
     "text": "0.18181818181818182\n0.18181818181818182\n0.18181818181818182\n0.18181818181818182\n0.18181818181818182\n0.18181818181818182\n0.18181818181818182\n0.18181818181818182\n0.18181818181818182\n0.18181818181818182\n0.18181818181818182\n0.18181818181818182\n0.18181818181818182\n0.18181818181818182\n0.18181818181818182\n0.18181818181818182\n0.18181818181818182\n0.18181818181818182\n0.18181818181818182\n0.18181818181818182\n0.18181818181818182\n0.18181818181818182\n0.18181818181818182\n0.18181818181818182\n0.18181818181818182\n0.18181818181818182\n0.18181818181818182\n0.18181818181818182\n0.18181818181818182\n0.18181818181818182\n0.18181818181818182\n0.18181818181818182\n0.18181818181818182\n0.18181818181818182\n0.18181818181818182\n0.18181818181818182\n0.18181818181818182\n0.18181818181818182\n0.18181818181818182\n0.18181818181818182\n0.18181818181818182\n0.18181818181818182\n0.18181818181818182\n0.18181818181818182\n0.18181818181818182\n0.18181818181818182\n0.18181818181818182\n0.18181818181818182\n0.18181818181818182\n0.18181818181818182\n0.18181818181818182\n0.18181818181818182\n0.18181818181818182\n0.18181818181818182\n0.18181818181818182\n0.18181818181818182\n0.18181818181818182\n0.18181818181818182\n0.18181818181818182\n0.18181818181818182\n0.18181818181818182\n0.18181818181818182\n0.18181818181818182\n0.18181818181818182\n0.18181818181818182\n0.18181818181818182\n0.18181818181818182\n0.18181818181818182\n0.18181818181818182\n0.18181818181818182\n0.18181818181818182\n0.18181818181818182\n0.18181818181818182\n0.18181818181818182\n0.18181818181818182\n0.18181818181818182\n0.18181818181818182\n0.18181818181818182\n0.18181818181818182\n0.18181818181818182\n0.18181818181818182\n0.18181818181818182\n0.18181818181818182\n0.18181818181818182\n0.18181818181818182\n0.18181818181818182\n0.18181818181818182\n0.18181818181818182\n0.18181818181818182\n0.18181818181818182\n0.18181818181818182\n0.18181818181818182\n0.24730409777138748\n0.24730409777138748\n0.26395039858281666\n0.2727272727272727\n0.2754607177497575\n0.2906350914962325\n0.3112244897959184\n0.34442836468885674\n0.35940099833610645\n0.3710247349823321\n0.37236084452975043\n0.39743589743589747\n0.39743589743589747\n0.4166666666666667\n0.3957219251336898\n0.3957219251336898\n0.3957219251336898\n0.41830065359477125\n0.41830065359477125\n0.41830065359477125\n0.41830065359477125\n0.41830065359477125\n0.41830065359477125\n0.41830065359477125\n0.41830065359477125\n0.41830065359477125\n0.41830065359477125\n0.41830065359477125\n0.41830065359477125\n0.41830065359477125\n0.41830065359477125\n0.41830065359477125\n0.41830065359477125\n0.41830065359477125\n0.41830065359477125\n0.41830065359477125\n0.41830065359477125\n0.41830065359477125\n0.41830065359477125\n0.41830065359477125\n0.41830065359477125\n0.0\n0.0\n0.0\n0.0\n0.0\n0.0\n0.0\n0.0\n0.0\n0.0\n0.0\n0.0\n0.0\n0.0\n0.0\n0.0\n0.0\n0.0\n0.0\n0.0\n0.0\n0.0\n0.0\n0.0\n0.0\n0.0\n0.0\n0.0\n0.0\n0.0\n0.0\n0.0\n0.0\n0.0\n0.0\n0.0\n0.0\n0.0\n0.0\n0.0\n0.0\n0.0\n0.0\n0.0\n0.0\n0.0\n0.0\n0.0\n0.0\n0.0\n0.0\n0.0\n0.0\n0.0\n0.0\n0.0\n0.0\n0.0\n0.0\n0.0\n0.0\n0.0\n0.0\n0.0\n0.0\n0.0\n0.0\n0.0\n0.0\n0.0\n0.0\n0.0\n0.0\n0.0\n0.0\n0.0\n0.0\n0.0\n0.0\n0.0\n0.0\n0.0\n0.0\n0.0\n0.0\n0.0\n0.0\n0.0\n0.0\n0.0\n0.0\n0.0\n0.0\n0.0\n0.0\n0.0\n0.0\n0.0\n0.0\n0.0\n0.0\n0.0\n0.0\n0.0\n0.0\n0.0\n0.0\n0.0\n0.0\n0.0\n0.0\n0.0\n0.0\n0.0\n0.0\n0.0\n0.0\n0.0\n0.0\n0.0\n0.0\n0.0\n0.0\n0.0\n0.0\n0.0\n0.0\n0.0\n0.0\n0.0\n0.0\n0.0\n0.0\n0.0\n0.0\n0.0\n0.0\n0.0\n0.0\n0.0\n0.0\n0.0\n0.0\n0.0\n0.0\n0.0\n0.0\n0.0\n0.0\n0.0\n0.0\n0.0\n0.0\n0.0\n0.0\n0.0\n0.0\n0.0\n0.0\n0.0\n0.0\n0.0\n0.0\n0.0\n0.0\n0.0\n"
    }
   ],
   "source": [
    "\n",
    "label_result = pd.read_csv('label.csv')\n",
    "\n",
    "\n",
    "# lgb_test_copy = lgb.lgb_test.copy()\n",
    "\n",
    "for j in range(1,300):\n",
    "    lgb_test_copy = np.zeros((2000,))\n",
    "    for i in range(lgb_test.shape[0]):\n",
    "        if lgb_test[i] > 0.001*j:\n",
    "            lgb_test_copy[i] = 1\n",
    "        else:\n",
    "            lgb_test_copy[i] = 0\n",
    "        # if i<500 :\n",
    "        #     print(i,\" \",lgb_test[i],\" \",lgb_test_copy[i])\n",
    "    s = f1_score(label_result['label'].values, lgb_test_copy)\n",
    "    print(s)\n"
   ]
  },
  {
   "cell_type": "code",
   "execution_count": null,
   "metadata": {},
   "outputs": [],
   "source": []
  }
 ]
}